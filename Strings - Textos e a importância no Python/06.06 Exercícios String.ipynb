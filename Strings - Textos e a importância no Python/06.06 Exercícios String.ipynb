{
 "cells": [
  {
   "cell_type": "markdown",
   "metadata": {},
   "source": [
    "# Exercícios\n",
    "\n",
    "## 1. Cadastro de CPF\n",
    "\n",
    "Crie um programa para cadastro de CPF de clientes que recebe o CPF em um input box apenas com números.\n",
    "\n",
    "Ex: 'Insira seu CPF (digite apenas números)'\n",
    "\n",
    "Caso o usuário digite algo diferente de números ou digite menos de 11 caracteres (tamanho do CPF brasileiro), o programa deve exibir uma mensagem de \"Digite seu CPF corretamente e digite apenas números\""
   ]
  },
  {
   "cell_type": "code",
   "execution_count": 12,
   "metadata": {},
   "outputs": [
    {
     "name": "stdout",
     "output_type": "stream",
     "text": [
      "Insira seu CPF (digite apenas números): 12345678901\n",
      "12345678901\n"
     ]
    }
   ],
   "source": [
    "cpf = input(\"Insira seu CPF (digite apenas números): \")\n",
    "if len(cpf) == 11 and cpf.isnumeric():\n",
    "    print(cpf)\n",
    "else:\n",
    "    print(\"Digite seu CPF corretamente e digite apenas números\")"
   ]
  },
  {
   "cell_type": "markdown",
   "metadata": {},
   "source": [
    "## 2. Melhorando nosso Cadastro de CPF\n",
    "\n",
    "Agora, além das validações anteriores, vamos criar um input que permita que o usuário insira pontos, traços e inclusive espaços vazios.\n",
    "\n",
    "Nosso programa deve \"tratar\" o que o usuário inserir para padronizar o CPF dele em apenas números.\n",
    "\n",
    "A verificação de tamanho do CPF com 11 caracteres continua válida, mas ela só deve ser feita depois de retirar todos os pontos, traços e espaços do CPF que o cliente inserir e, uma vez retirados pontos, traços e espaços, devem sobrar apenas números no CPF. Qualquer outro caractere deve ser considerado inválido.\n",
    "\n",
    "No final, nosso programa deve exibir uma mensagem para o usuário, caso ele tenha inserido o CPF inválido ou então apenas deve printar o CPF correto já só com número."
   ]
  },
  {
   "cell_type": "code",
   "execution_count": 16,
   "metadata": {},
   "outputs": [
    {
     "name": "stdout",
     "output_type": "stream",
     "text": [
      "Insira seu CPF:                 123.234.654-00     \n",
      "12323465400\n"
     ]
    }
   ],
   "source": [
    "#tirar espaços\n",
    "#tirar pontos\n",
    "#tirar traços\n",
    "\n",
    "cpf = input(\"Insira seu CPF: \")\n",
    "\n",
    "#tirar espaços\n",
    "cpf = cpf.strip()\n",
    "\n",
    "#tirar pontos\n",
    "cpf = cpf.replace('.','')\n",
    "\n",
    "#tirar traços\n",
    "cpf = cpf.replace('-','')\n",
    "\n",
    "\n",
    "if len(cpf) == 11 and cpf.isnumeric():\n",
    "    print(cpf)\n",
    "else:\n",
    "    print(\"Digite seu CPF corretamente e digite apenas números\")"
   ]
  },
  {
   "cell_type": "markdown",
   "metadata": {},
   "source": [
    "## 3. Cadastro de e-mails\n",
    "\n",
    "- A Hashtag sempre se comunica com seus clientes por e-mail. Para isso, a gente tem em cada página um cadastro de nome e e-mail. Nesse cadastro, nosso sistema verifica se o e-mail que a pessoa inseriu é um e-mail válido, verificando se ele tem '@' e se depois do '@' tem algum ponto, afinal:\n",
    "\n",
    "- liragmail.com NÃO é um e-mail válido\n",
    "- lira@gmail NÃO é um e-mail válido\n",
    "- lira@gmail.com é um e-mail válido\n",
    "\n",
    "Crie um programa que permita o cadastro de nome e e-mail de uma pessoa (por meio de inputs) e que verifique:\n",
    "1. Se nome e e-mail foram preenchidos, caso contrário ele deve avisar para preencher todos os dados corretamente\n",
    "2. Se o e-mail contém '@' e se depois do '@' existe algum '.', caso contrário ele deve exibir uma mensagem de e-mail inválido\n",
    "\n",
    "Obs: Pode te ajudar lembrar do método .find da aula de Métodos de String. Você pode testar o que ele dá como resposta caso ele não encontre um item dentro da string"
   ]
  },
  {
   "cell_type": "code",
   "execution_count": 42,
   "metadata": {},
   "outputs": [
    {
     "name": "stdout",
     "output_type": "stream",
     "text": [
      "Digite seu email: alexandresouza280@gmail.com\n",
      "Digite seu Nome: alexandre\n",
      "alexandre\n",
      "alexandresouza280@gmail.com\n"
     ]
    }
   ],
   "source": [
    "#USANDO \"endswith()\"\n",
    "\n",
    "email = input('Digite seu email: ')\n",
    "nome = input('Digite seu Nome: ')\n",
    "\n",
    "if nome and email:\n",
    "    if '@' in email and email.endswith('.com'):\n",
    "        print(nome)\n",
    "        print(email)\n",
    "    else:\n",
    "        print('O e-mail é inválido!')\n",
    "else:\n",
    "    print('Preencha todos os dados corretamente!')"
   ]
  },
  {
   "cell_type": "code",
   "execution_count": 60,
   "metadata": {},
   "outputs": [
    {
     "name": "stdout",
     "output_type": "stream",
     "text": [
      "Digite seu email: alexandresouza280@gmail.com\n",
      "Digite seu Nome: \n",
      "Preencha todos os dados corretamente!\n"
     ]
    }
   ],
   "source": [
    "#USANDO \"find()\"\n",
    "\n",
    "email = input('Digite seu email: ')\n",
    "nome = input('Digite seu Nome: ')\n",
    "\n",
    "if nome and email:\n",
    "    tem_arroba = email.find('@')\n",
    "    print('tem_arroba: {}'.format(tem_arroba))\n",
    "    depois_arroba = email[tem_arroba+1:]\n",
    "    print('depois_arroba: {}'.format(depois_arroba))\n",
    "    if tem_arroba != -1 and '.' in depois_arroba:\n",
    "        print('Dados validos! \\n{} \\n{}'.format(nome, email))\n",
    "    else:\n",
    "        print('Dados invalidos! \\n{} \\n{}'.format(nome, email))\n",
    "else:\n",
    "    print('Preencha todos os dados corretamente!')"
   ]
  },
  {
   "cell_type": "code",
   "execution_count": null,
   "metadata": {},
   "outputs": [],
   "source": []
  }
 ],
 "metadata": {
  "kernelspec": {
   "display_name": "Python 3 (ipykernel)",
   "language": "python",
   "name": "python3"
  },
  "language_info": {
   "codemirror_mode": {
    "name": "ipython",
    "version": 3
   },
   "file_extension": ".py",
   "mimetype": "text/x-python",
   "name": "python",
   "nbconvert_exporter": "python",
   "pygments_lexer": "ipython3",
   "version": "3.9.7"
  }
 },
 "nbformat": 4,
 "nbformat_minor": 4
}
