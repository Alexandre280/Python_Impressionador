{
 "cells": [
  {
   "cell_type": "markdown",
   "metadata": {},
   "source": [
    "# Exercícios\n",
    "\n",
    "## 1. Faturamento do Melhor e do Pior Mês do Ano\n",
    "\n",
    "Qual foi o valor de vendas do melhor mês do Ano?\n",
    "E valor do pior mês do ano?"
   ]
  },
  {
   "cell_type": "code",
   "execution_count": 100,
   "metadata": {},
   "outputs": [
    {
     "name": "stdout",
     "output_type": "stream",
     "text": [
      "lista das vendas [25000, 29000, 22200, 17750, 15870, 19900, 19850, 20120, 17540, 15555, 49051, 9650]\n",
      "A maior venda foi no mês de nov no valor de 49051\n"
     ]
    }
   ],
   "source": [
    "meses = ['jan', 'fev', 'mar', 'abr', 'mai', 'jun', 'jul', 'ago', 'set', 'out', 'nov', 'dez']\n",
    "vendas_1sem = [25000, 29000, 22200, 17750, 15870, 19900]\n",
    "vendas_2sem = [19850, 20120, 17540, 15555, 49051, 9650]\n",
    "\n",
    "vendas = vendas_1sem + vendas_2sem\n",
    "\n",
    "print('lista das vendas {}'.format(vendas))\n",
    "print('A maior venda foi no mês de {} no valor de {}'.format(meses[vendas.index(max(vendas))],max(vendas)))"
   ]
  },
  {
   "cell_type": "markdown",
   "metadata": {},
   "source": [
    "## 2. Continuação\n",
    "\n",
    "Agora relacione as duas listas para printar 'O melhor mês do ano foi {} com {} vendas' e o mesmo para o pior mês do ano.\n",
    "\n",
    "Calcule também o faturamento total do Ano e quanto que o melhor mês representou do faturamento total.\n",
    "\n",
    "Obs: Para o faturamento total, pode usar a função sum(lista) que soma todos os itens de uma lista"
   ]
  },
  {
   "cell_type": "code",
   "execution_count": 80,
   "metadata": {},
   "outputs": [
    {
     "name": "stdout",
     "output_type": "stream",
     "text": [
      "O melhor mês do ano foi nov com 49051 vendas\n",
      "O pior mês do ano foi dez com 9650 vendas\n",
      "O faturamento anual foi de R$261486, e o melhor mês representou 18.8% do faturamento\n"
     ]
    }
   ],
   "source": [
    "print('O melhor mês do ano foi {} com {} vendas'.format(meses[vendas.index(max(vendas))],max(vendas)))\n",
    "print('O pior mês do ano foi {} com {} vendas'.format(meses[vendas.index(min(vendas))],min(vendas)))\n",
    "print('O faturamento anual foi de R${}, e o melhor mês representou {:.1%} do faturamento'.format(sum(vendas), max(vendas) / sum(vendas)))"
   ]
  },
  {
   "cell_type": "markdown",
   "metadata": {},
   "source": [
    "## 3. Crie uma lista com o top 3 valores de vendas do ano (sem fazer \"no olho\")\n",
    "\n",
    "Dica: o método remove retira um item da lista."
   ]
  },
  {
   "cell_type": "code",
   "execution_count": 104,
   "metadata": {},
   "outputs": [
    {
     "name": "stdout",
     "output_type": "stream",
     "text": [
      "[22200, 17750, 15870, 19900, 19850, 20120, 17540, 15555, 9650]\n",
      "[49051, 29000, 25000]\n"
     ]
    }
   ],
   "source": [
    "top3.append(max(vendas))\n",
    "vendas.remove(max(vendas))\n",
    "print(vendas)\n",
    "print(top3)"
   ]
  },
  {
   "cell_type": "code",
   "execution_count": 101,
   "metadata": {},
   "outputs": [],
   "source": [
    "top3 = []"
   ]
  },
  {
   "cell_type": "code",
   "execution_count": null,
   "metadata": {},
   "outputs": [],
   "source": []
  }
 ],
 "metadata": {
  "kernelspec": {
   "display_name": "Python 3 (ipykernel)",
   "language": "python",
   "name": "python3"
  },
  "language_info": {
   "codemirror_mode": {
    "name": "ipython",
    "version": 3
   },
   "file_extension": ".py",
   "mimetype": "text/x-python",
   "name": "python",
   "nbconvert_exporter": "python",
   "pygments_lexer": "ipython3",
   "version": "3.9.12"
  }
 },
 "nbformat": 4,
 "nbformat_minor": 4
}
